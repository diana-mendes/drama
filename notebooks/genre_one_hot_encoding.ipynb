{
  "nbformat": 4,
  "nbformat_minor": 0,
  "metadata": {
    "colab": {
      "name": "genre_one_hot_encoding.ipynb",
      "provenance": [],
      "collapsed_sections": [],
      "toc_visible": true
    },
    "kernelspec": {
      "name": "python3",
      "display_name": "Python 3"
    }
  },
  "cells": [
    {
      "cell_type": "code",
      "metadata": {
        "id": "DaUgDj1d1I4I"
      },
      "source": [
        "import pandas as pd\n",
        "\n",
        "from tensorflow.keras.layers.experimental.preprocessing import TextVectorization\n",
        "\n",
        "import tensorflow as tf"
      ],
      "execution_count": 17,
      "outputs": []
    },
    {
      "cell_type": "markdown",
      "metadata": {
        "id": "zPX4M9egaz5_"
      },
      "source": [
        "# Calculate Genre encodings\n",
        "(equivalent to one hot encoding?)"
      ]
    },
    {
      "cell_type": "code",
      "metadata": {
        "id": "ZgemAu7h4NKe"
      },
      "source": [
        "df = pd.read_csv(\"/content/drive/My Drive/Colab Notebooks/drama-notebooks/dramawiki_2020_dramas_extracted_fields.csv\", sep='\\t')"
      ],
      "execution_count": 148,
      "outputs": []
    },
    {
      "cell_type": "code",
      "metadata": {
        "id": "1qC3WuOi4ik2"
      },
      "source": [
        "df = df[['main_name', 'genre']].dropna()"
      ],
      "execution_count": 149,
      "outputs": []
    },
    {
      "cell_type": "code",
      "metadata": {
        "colab": {
          "base_uri": "https://localhost:8080/",
          "height": 197
        },
        "id": "X3zqW3GP5dS9",
        "outputId": "0db95cdd-de91-4089-83e3-a9c0b0e1ad32"
      },
      "source": [
        "df.head(5)  # why is the first genre always capitalized?"
      ],
      "execution_count": 150,
      "outputs": [
        {
          "output_type": "execute_result",
          "data": {
            "text/html": [
              "<div>\n",
              "<style scoped>\n",
              "    .dataframe tbody tr th:only-of-type {\n",
              "        vertical-align: middle;\n",
              "    }\n",
              "\n",
              "    .dataframe tbody tr th {\n",
              "        vertical-align: top;\n",
              "    }\n",
              "\n",
              "    .dataframe thead th {\n",
              "        text-align: right;\n",
              "    }\n",
              "</style>\n",
              "<table border=\"1\" class=\"dataframe\">\n",
              "  <thead>\n",
              "    <tr style=\"text-align: right;\">\n",
              "      <th></th>\n",
              "      <th>main_name</th>\n",
              "      <th>genre</th>\n",
              "    </tr>\n",
              "  </thead>\n",
              "  <tbody>\n",
              "    <tr>\n",
              "      <th>0</th>\n",
              "      <td>365: Repeat the Year</td>\n",
              "      <td>Thriller, fantasy, mystery, crime, time-travel</td>\n",
              "    </tr>\n",
              "    <tr>\n",
              "      <th>1</th>\n",
              "      <td>A Piece of Your Mind</td>\n",
              "      <td>Romance, comedy</td>\n",
              "    </tr>\n",
              "    <tr>\n",
              "      <th>2</th>\n",
              "      <td>Alice (SBS)</td>\n",
              "      <td>Fantasy, science fiction, time-travel</td>\n",
              "    </tr>\n",
              "    <tr>\n",
              "      <th>3</th>\n",
              "      <td>Amanza</td>\n",
              "      <td>Drama</td>\n",
              "    </tr>\n",
              "    <tr>\n",
              "      <th>4</th>\n",
              "      <td>Backstreet Rookie</td>\n",
              "      <td>Romance, comedy</td>\n",
              "    </tr>\n",
              "  </tbody>\n",
              "</table>\n",
              "</div>"
            ],
            "text/plain": [
              "              main_name                                            genre\n",
              "0  365: Repeat the Year   Thriller, fantasy, mystery, crime, time-travel\n",
              "1  A Piece of Your Mind                                  Romance, comedy\n",
              "2           Alice (SBS)            Fantasy, science fiction, time-travel\n",
              "3                Amanza                                            Drama\n",
              "4     Backstreet Rookie                                  Romance, comedy"
            ]
          },
          "metadata": {
            "tags": []
          },
          "execution_count": 150
        }
      ]
    },
    {
      "cell_type": "code",
      "metadata": {
        "colab": {
          "base_uri": "https://localhost:8080/"
        },
        "id": "Llnm4gSicKg7",
        "outputId": "c3665e06-472a-49b7-83b1-9829c99cd783"
      },
      "source": [
        "df.shape"
      ],
      "execution_count": 151,
      "outputs": [
        {
          "output_type": "execute_result",
          "data": {
            "text/plain": [
              "(111, 2)"
            ]
          },
          "metadata": {
            "tags": []
          },
          "execution_count": 151
        }
      ]
    },
    {
      "cell_type": "code",
      "metadata": {
        "colab": {
          "base_uri": "https://localhost:8080/"
        },
        "id": "joSMJ3lg5jLB",
        "outputId": "443b6b7c-67ee-4d41-be10-26039a249833"
      },
      "source": [
        "training_data = df['genre'].values.tolist()\n",
        "training_data[:10]"
      ],
      "execution_count": 153,
      "outputs": [
        {
          "output_type": "execute_result",
          "data": {
            "text/plain": [
              "[' Thriller, fantasy, mystery, crime, time-travel',\n",
              " ' Romance, comedy',\n",
              " ' Fantasy, science fiction, time-travel',\n",
              " ' Drama',\n",
              " ' Romance, comedy',\n",
              " ' Melodrama',\n",
              " ' Drama, youth, music, romance',\n",
              " ' Drama, school',\n",
              " ' Drama, mystery',\n",
              " ' Melodrama, mystery, fantasy']"
            ]
          },
          "metadata": {
            "tags": []
          },
          "execution_count": 153
        }
      ]
    },
    {
      "cell_type": "code",
      "metadata": {
        "colab": {
          "base_uri": "https://localhost:8080/"
        },
        "id": "gItktUuMUSRa",
        "outputId": "f619d553-bfcd-4733-d069-4ab6c59590c8"
      },
      "source": [
        "len(training_data)"
      ],
      "execution_count": 72,
      "outputs": [
        {
          "output_type": "execute_result",
          "data": {
            "text/plain": [
              "111"
            ]
          },
          "metadata": {
            "tags": []
          },
          "execution_count": 72
        }
      ]
    },
    {
      "cell_type": "code",
      "metadata": {
        "id": "EzBtiFMnTgD3"
      },
      "source": [
        "def split_by_comma(input_string):\n",
        "  return input_string.split(',')\n",
        "\n",
        "n_genres_per_row = [len(split_by_comma(i)) for i in training_data]"
      ],
      "execution_count": 74,
      "outputs": []
    },
    {
      "cell_type": "code",
      "metadata": {
        "colab": {
          "base_uri": "https://localhost:8080/"
        },
        "id": "6XsWtOC2UPzq",
        "outputId": "e0ca05ec-51df-4a32-a5af-3ca7457785b0"
      },
      "source": [
        "len(n_genres_per_row)"
      ],
      "execution_count": 75,
      "outputs": [
        {
          "output_type": "execute_result",
          "data": {
            "text/plain": [
              "111"
            ]
          },
          "metadata": {
            "tags": []
          },
          "execution_count": 75
        }
      ]
    },
    {
      "cell_type": "code",
      "metadata": {
        "id": "Ey4jtMLn57z6"
      },
      "source": [
        "def split_by_comma_tf(input_tensor):  # why doesn't this work?\n",
        "  return tf.strings.split(input_tensor, sep=',')\n",
        "\n",
        "textVectorizer = TextVectorization(\n",
        "                                  # output_sequence_length=max(n_genres_per_row), \n",
        "                                  #  split=split_by_comma_tf,\n",
        "                                   pad_to_max_tokens=True,\n",
        "                                   output_mode='binary')"
      ],
      "execution_count": 164,
      "outputs": []
    },
    {
      "cell_type": "code",
      "metadata": {
        "id": "7yPTu4iyMrOm"
      },
      "source": [
        "textVectorizer.adapt(training_data)"
      ],
      "execution_count": 165,
      "outputs": []
    },
    {
      "cell_type": "code",
      "metadata": {
        "colab": {
          "base_uri": "https://localhost:8080/"
        },
        "id": "UEicITDSM5B0",
        "outputId": "82e3ca68-b5ee-4b86-c2eb-edb6a206fd5f"
      },
      "source": [
        "vocab = textVectorizer.get_vocabulary()  # needs further cleaning (UNK, bl, '')\n",
        "vocab[:10]"
      ],
      "execution_count": 166,
      "outputs": [
        {
          "output_type": "execute_result",
          "data": {
            "text/plain": [
              "['[UNK]',\n",
              " 'drama',\n",
              " 'romance',\n",
              " 'comedy',\n",
              " 'mystery',\n",
              " 'fantasy',\n",
              " 'youth',\n",
              " 'thriller',\n",
              " 'melodrama',\n",
              " 'family']"
            ]
          },
          "metadata": {
            "tags": []
          },
          "execution_count": 166
        }
      ]
    },
    {
      "cell_type": "code",
      "metadata": {
        "colab": {
          "base_uri": "https://localhost:8080/"
        },
        "id": "crvoc4QCVVZV",
        "outputId": "b7e7889f-92aa-4419-affd-59e68b8a4225"
      },
      "source": [
        "len(vocab)"
      ],
      "execution_count": 167,
      "outputs": [
        {
          "output_type": "execute_result",
          "data": {
            "text/plain": [
              "38"
            ]
          },
          "metadata": {
            "tags": []
          },
          "execution_count": 167
        }
      ]
    },
    {
      "cell_type": "code",
      "metadata": {
        "id": "tiBbbnJjNyoM"
      },
      "source": [
        "model = tf.keras.models.Sequential()"
      ],
      "execution_count": 168,
      "outputs": []
    },
    {
      "cell_type": "code",
      "metadata": {
        "id": "upQkC-zEOJzI"
      },
      "source": [
        "model.add(tf.keras.Input(shape=(1,), dtype=tf.string))"
      ],
      "execution_count": 169,
      "outputs": []
    },
    {
      "cell_type": "code",
      "metadata": {
        "id": "i9HJqPzDOPyE"
      },
      "source": [
        "model.add(textVectorizer)"
      ],
      "execution_count": 170,
      "outputs": []
    },
    {
      "cell_type": "code",
      "metadata": {
        "colab": {
          "base_uri": "https://localhost:8080/"
        },
        "id": "t5gPLWeGOU5z",
        "outputId": "306cf06e-564e-43a7-aa2d-e39779e2e315"
      },
      "source": [
        "output = model.predict(training_data)\n",
        "output[:5]"
      ],
      "execution_count": 171,
      "outputs": [
        {
          "output_type": "execute_result",
          "data": {
            "text/plain": [
              "array([[0., 0., 0., 0., 1., 1., 0., 1., 0., 0., 0., 0., 0., 0., 0., 0.,\n",
              "        0., 0., 0., 0., 1., 0., 1., 0., 0., 0., 0., 0., 0., 0., 0., 0.,\n",
              "        0., 0., 0., 0., 0., 0.],\n",
              "       [0., 0., 1., 1., 0., 0., 0., 0., 0., 0., 0., 0., 0., 0., 0., 0.,\n",
              "        0., 0., 0., 0., 0., 0., 0., 0., 0., 0., 0., 0., 0., 0., 0., 0.,\n",
              "        0., 0., 0., 0., 0., 0.],\n",
              "       [0., 0., 0., 0., 0., 1., 0., 0., 0., 0., 0., 0., 0., 1., 0., 1.,\n",
              "        0., 0., 0., 0., 0., 0., 1., 0., 0., 0., 0., 0., 0., 0., 0., 0.,\n",
              "        0., 0., 0., 0., 0., 0.],\n",
              "       [0., 1., 0., 0., 0., 0., 0., 0., 0., 0., 0., 0., 0., 0., 0., 0.,\n",
              "        0., 0., 0., 0., 0., 0., 0., 0., 0., 0., 0., 0., 0., 0., 0., 0.,\n",
              "        0., 0., 0., 0., 0., 0.],\n",
              "       [0., 0., 1., 1., 0., 0., 0., 0., 0., 0., 0., 0., 0., 0., 0., 0.,\n",
              "        0., 0., 0., 0., 0., 0., 0., 0., 0., 0., 0., 0., 0., 0., 0., 0.,\n",
              "        0., 0., 0., 0., 0., 0.]], dtype=float32)"
            ]
          },
          "metadata": {
            "tags": []
          },
          "execution_count": 171
        }
      ]
    },
    {
      "cell_type": "code",
      "metadata": {
        "colab": {
          "base_uri": "https://localhost:8080/"
        },
        "id": "CDpu_VYtOfY9",
        "outputId": "485e4e9c-95a1-4efe-881c-d2e8d8a0877e"
      },
      "source": [
        "output.shape"
      ],
      "execution_count": 172,
      "outputs": [
        {
          "output_type": "execute_result",
          "data": {
            "text/plain": [
              "(111, 38)"
            ]
          },
          "metadata": {
            "tags": []
          },
          "execution_count": 172
        }
      ]
    },
    {
      "cell_type": "markdown",
      "metadata": {
        "id": "gERS5jOKbAOt"
      },
      "source": [
        "# Calculate pairwise cosine similarity"
      ]
    },
    {
      "cell_type": "code",
      "metadata": {
        "id": "aLu5Zg8rR5aM"
      },
      "source": [
        "cosine_loss = tf.keras.losses.CosineSimilarity(axis=1)"
      ],
      "execution_count": 173,
      "outputs": []
    },
    {
      "cell_type": "code",
      "metadata": {
        "colab": {
          "base_uri": "https://localhost:8080/"
        },
        "id": "TUylO0LxW4SF",
        "outputId": "160d1cba-facd-4959-ae3a-abfaef83c661"
      },
      "source": [
        "sample = output[:5, :]\n",
        "cosine_loss(sample, sample).numpy()  # does not work with integer output (not binary)"
      ],
      "execution_count": 174,
      "outputs": [
        {
          "output_type": "execute_result",
          "data": {
            "text/plain": [
              "-1.0"
            ]
          },
          "metadata": {
            "tags": []
          },
          "execution_count": 174
        }
      ]
    },
    {
      "cell_type": "code",
      "metadata": {
        "id": "5_wPH9kWXC6Q"
      },
      "source": [
        "def compute_cosine_distances(a, b):\n",
        "    # x shape is n_a * dim\n",
        "    # y shape is n_b * dim\n",
        "    # results shape is n_a * n_b\n",
        "\n",
        "    normalize_a = tf.nn.l2_normalize(a,1)        \n",
        "    normalize_b = tf.nn.l2_normalize(b,1)\n",
        "    distance = 1 - tf.matmul(normalize_a, normalize_b, transpose_b=True)\n",
        "    return distance"
      ],
      "execution_count": 175,
      "outputs": []
    },
    {
      "cell_type": "code",
      "metadata": {
        "colab": {
          "base_uri": "https://localhost:8080/"
        },
        "id": "dZAnwyFTZdop",
        "outputId": "99813d25-9373-489b-d169-e7522518fa11"
      },
      "source": [
        "compute_cosine_distances(sample, sample)  # gives error with integers (not binary)"
      ],
      "execution_count": 176,
      "outputs": [
        {
          "output_type": "execute_result",
          "data": {
            "text/plain": [
              "<tf.Tensor: shape=(5, 5), dtype=float32, numpy=\n",
              "array([[5.9604645e-08, 1.0000000e+00, 5.5278641e-01, 1.0000000e+00,\n",
              "        1.0000000e+00],\n",
              "       [1.0000000e+00, 5.9604645e-08, 1.0000000e+00, 1.0000000e+00,\n",
              "        5.9604645e-08],\n",
              "       [5.5278641e-01, 1.0000000e+00, 0.0000000e+00, 1.0000000e+00,\n",
              "        1.0000000e+00],\n",
              "       [1.0000000e+00, 1.0000000e+00, 1.0000000e+00, 0.0000000e+00,\n",
              "        1.0000000e+00],\n",
              "       [1.0000000e+00, 5.9604645e-08, 1.0000000e+00, 1.0000000e+00,\n",
              "        5.9604645e-08]], dtype=float32)>"
            ]
          },
          "metadata": {
            "tags": []
          },
          "execution_count": 176
        }
      ]
    },
    {
      "cell_type": "code",
      "metadata": {
        "id": "W138DLP3aOla"
      },
      "source": [
        "from sklearn.metrics.pairwise import cosine_similarity as sklearn_cosine_similarity\n",
        "import numpy as np"
      ],
      "execution_count": 177,
      "outputs": []
    },
    {
      "cell_type": "code",
      "metadata": {
        "id": "v612K4eYZzgU"
      },
      "source": [
        "cosine_simil = sklearn_cosine_similarity(output)"
      ],
      "execution_count": 178,
      "outputs": []
    },
    {
      "cell_type": "code",
      "metadata": {
        "colab": {
          "base_uri": "https://localhost:8080/"
        },
        "id": "XyzDcfN-aLmO",
        "outputId": "57a8cb5f-8222-4e43-da2e-e91c8e06cc6c"
      },
      "source": [
        "cosine_simil[:1, 1:]  # exlcuding first value as it's 1 (cosin similarity to itself)"
      ],
      "execution_count": 179,
      "outputs": [
        {
          "output_type": "execute_result",
          "data": {
            "text/plain": [
              "array([[0.        , 0.4472136 , 0.        , 0.        , 0.        ,\n",
              "        0.        , 0.        , 0.31622776, 0.5163978 , 0.        ,\n",
              "        0.        , 0.31622776, 0.        , 0.        , 0.        ,\n",
              "        0.5163978 , 0.        , 0.        , 0.        , 0.        ,\n",
              "        0.        , 0.        , 0.2236068 , 0.        , 0.        ,\n",
              "        0.        , 0.2581989 , 0.        , 0.4472136 , 0.        ,\n",
              "        0.        , 0.        , 0.        , 0.        , 0.2236068 ,\n",
              "        0.        , 0.        , 0.2236068 , 0.        , 0.        ,\n",
              "        0.        , 0.        , 0.39999998, 0.        , 0.39999998,\n",
              "        0.        , 0.        , 0.        , 0.        , 0.        ,\n",
              "        0.        , 0.        , 0.59999996, 0.2581989 , 0.2581989 ,\n",
              "        0.77459663, 0.        , 0.        , 0.        , 0.        ,\n",
              "        0.        , 0.        , 0.5163978 , 0.        , 0.4472136 ,\n",
              "        0.        , 0.        , 0.        , 0.        , 0.        ,\n",
              "        0.2581989 , 0.31622776, 0.        , 0.        , 0.        ,\n",
              "        0.        , 0.        , 0.        , 0.31622776, 0.        ,\n",
              "        0.31622776, 0.2236068 , 0.4472136 , 0.        , 0.        ,\n",
              "        0.        , 0.        , 0.        , 0.31622776, 0.5163978 ,\n",
              "        0.67082036, 0.        , 0.2581989 , 0.2581989 , 0.        ,\n",
              "        0.        , 0.4472136 , 0.2236068 , 0.        , 0.        ,\n",
              "        0.        , 0.        , 0.        , 0.        , 0.        ,\n",
              "        0.        , 0.        , 0.        , 0.        , 0.2581989 ]],\n",
              "      dtype=float32)"
            ]
          },
          "metadata": {
            "tags": []
          },
          "execution_count": 179
        }
      ]
    },
    {
      "cell_type": "code",
      "metadata": {
        "id": "qMeeudSlbW5s"
      },
      "source": [
        "index_of_most_similar = np.argmax(cosine_simil[:1, 1:]) + 1"
      ],
      "execution_count": 182,
      "outputs": []
    },
    {
      "cell_type": "code",
      "metadata": {
        "colab": {
          "base_uri": "https://localhost:8080/"
        },
        "id": "UcfOpZqFcsoJ",
        "outputId": "5bf8d720-f4c2-420a-90cb-08601d65d2ed"
      },
      "source": [
        "print(output[0])\n",
        "print(output[index_of_most_similar])"
      ],
      "execution_count": 183,
      "outputs": [
        {
          "output_type": "stream",
          "text": [
            "[0. 0. 0. 0. 1. 1. 0. 1. 0. 0. 0. 0. 0. 0. 0. 0. 0. 0. 0. 0. 1. 0. 1. 0.\n",
            " 0. 0. 0. 0. 0. 0. 0. 0. 0. 0. 0. 0. 0. 0.]\n",
            "[0. 0. 0. 0. 1. 1. 0. 1. 0. 0. 0. 0. 0. 0. 0. 0. 0. 0. 0. 0. 0. 0. 0. 0.\n",
            " 0. 0. 0. 0. 0. 0. 0. 0. 0. 0. 0. 0. 0. 0.]\n"
          ],
          "name": "stdout"
        }
      ]
    },
    {
      "cell_type": "code",
      "metadata": {
        "colab": {
          "base_uri": "https://localhost:8080/"
        },
        "id": "EKZUNdiucb0Y",
        "outputId": "e69d7ba3-4f75-486a-d490-7f7707913a5c"
      },
      "source": [
        "print(df['main_name'].values[0])\n",
        "print(df['main_name'].values[index_of_most_similar])"
      ],
      "execution_count": 184,
      "outputs": [
        {
          "output_type": "stream",
          "text": [
            "365: Repeat the Year\n",
            "Missing: The Other Side\n"
          ],
          "name": "stdout"
        }
      ]
    },
    {
      "cell_type": "code",
      "metadata": {
        "colab": {
          "base_uri": "https://localhost:8080/"
        },
        "id": "Q_Czn5TFckTV",
        "outputId": "03bbe485-1306-40ba-b9d6-f969a21a648d"
      },
      "source": [
        "print(df['genre'].values[0])\n",
        "print(df['genre'].values[index_of_most_similar])"
      ],
      "execution_count": 185,
      "outputs": [
        {
          "output_type": "stream",
          "text": [
            " Thriller, fantasy, mystery, crime, time-travel\n",
            "  Fantasy, mystery, thriller\n"
          ],
          "name": "stdout"
        }
      ]
    },
    {
      "cell_type": "code",
      "metadata": {
        "id": "DrGX7RSSczW2"
      },
      "source": [
        ""
      ],
      "execution_count": null,
      "outputs": []
    }
  ]
}