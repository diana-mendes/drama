{
 "cells": [
  {
   "cell_type": "code",
   "execution_count": 12,
   "metadata": {},
   "outputs": [],
   "source": [
    "import pandas as pd\n",
    "import matplotlib"
   ]
  },
  {
   "cell_type": "code",
   "execution_count": 5,
   "metadata": {},
   "outputs": [],
   "source": [
    "main_details = pd.read_csv(\"/Users/diana/drama/data/dramawiki_2019_dramas_main_details.csv\", sep='\\t')"
   ]
  },
  {
   "cell_type": "code",
   "execution_count": 6,
   "metadata": {},
   "outputs": [
    {
     "data": {
      "text/html": [
       "<div>\n",
       "<style scoped>\n",
       "    .dataframe tbody tr th:only-of-type {\n",
       "        vertical-align: middle;\n",
       "    }\n",
       "\n",
       "    .dataframe tbody tr th {\n",
       "        vertical-align: top;\n",
       "    }\n",
       "\n",
       "    .dataframe thead th {\n",
       "        text-align: right;\n",
       "    }\n",
       "</style>\n",
       "<table border=\"1\" class=\"dataframe\">\n",
       "  <thead>\n",
       "    <tr style=\"text-align: right;\">\n",
       "      <th></th>\n",
       "      <th>main_name</th>\n",
       "      <th>title</th>\n",
       "      <th>genre</th>\n",
       "      <th>episodes</th>\n",
       "      <th>network</th>\n",
       "      <th>broadcast_period</th>\n",
       "      <th>airtime</th>\n",
       "    </tr>\n",
       "  </thead>\n",
       "  <tbody>\n",
       "    <tr>\n",
       "      <th>0</th>\n",
       "      <td>17 Years Old Condition</td>\n",
       "      <td>17세의 조건 / 17 Seui Jogeon</td>\n",
       "      <td>School, youth, romance, melodrama</td>\n",
       "      <td>4</td>\n",
       "      <td>SBS</td>\n",
       "      <td>2019-Aug-05 to 2019-Aug-06</td>\n",
       "      <td>;Monday &amp; Tuesday at 22:00; (2 episodes back-...</td>\n",
       "    </tr>\n",
       "    <tr>\n",
       "      <th>1</th>\n",
       "      <td>A Place in the Sun</td>\n",
       "      <td>태양의 계절 / Taeyangui Gyejeol</td>\n",
       "      <td>Melodrama, romance</td>\n",
       "      <td>102</td>\n",
       "      <td>KBS2</td>\n",
       "      <td>2019-Jun-03 to 2019-Nov-01</td>\n",
       "      <td>;Monday to Friday 19:50</td>\n",
       "    </tr>\n",
       "    <tr>\n",
       "      <th>2</th>\n",
       "      <td>A Pledge to God</td>\n",
       "      <td>신과의 약속 / Sin-gwaeui Yaksok</td>\n",
       "      <td>Melodrama, family</td>\n",
       "      <td>48</td>\n",
       "      <td>MBC</td>\n",
       "      <td>2018-Nov-24 to 2019-Feb-16</td>\n",
       "      <td>;Saturday 21:05; (4 episodes back-to-back)</td>\n",
       "    </tr>\n",
       "    <tr>\n",
       "      <th>3</th>\n",
       "      <td>A-TEEN</td>\n",
       "      <td>에이틴 / Eitin</td>\n",
       "      <td>Drama, romance</td>\n",
       "      <td>20</td>\n",
       "      <td>Naver TV Cast</td>\n",
       "      <td>2019-Apr-25 to 2019-Jun-30</td>\n",
       "      <td>Thursday &amp; Sunday 19:00</td>\n",
       "    </tr>\n",
       "    <tr>\n",
       "      <th>4</th>\n",
       "      <td>Abyss</td>\n",
       "      <td>어비스 / Eobiseu</td>\n",
       "      <td>Drama, fantasy, romance, legal, comedy</td>\n",
       "      <td>16</td>\n",
       "      <td>tvN</td>\n",
       "      <td>2019-May-06 to 2019-Jun-25</td>\n",
       "      <td>;Monday &amp; Tuesday 21:30</td>\n",
       "    </tr>\n",
       "  </tbody>\n",
       "</table>\n",
       "</div>"
      ],
      "text/plain": [
       "                main_name                        title  \\\n",
       "0  17 Years Old Condition     17세의 조건 / 17 Seui Jogeon   \n",
       "1      A Place in the Sun   태양의 계절 / Taeyangui Gyejeol   \n",
       "2         A Pledge to God   신과의 약속 / Sin-gwaeui Yaksok   \n",
       "3                  A-TEEN                  에이틴 / Eitin   \n",
       "4                   Abyss                어비스 / Eobiseu   \n",
       "\n",
       "                                     genre episodes         network  \\\n",
       "0        School, youth, romance, melodrama        4             SBS   \n",
       "1                       Melodrama, romance      102            KBS2   \n",
       "2                        Melodrama, family       48             MBC   \n",
       "3                           Drama, romance       20   Naver TV Cast   \n",
       "4   Drama, fantasy, romance, legal, comedy       16             tvN   \n",
       "\n",
       "              broadcast_period  \\\n",
       "0   2019-Aug-05 to 2019-Aug-06   \n",
       "1   2019-Jun-03 to 2019-Nov-01   \n",
       "2   2018-Nov-24 to 2019-Feb-16   \n",
       "3   2019-Apr-25 to 2019-Jun-30   \n",
       "4   2019-May-06 to 2019-Jun-25   \n",
       "\n",
       "                                             airtime  \n",
       "0   ;Monday & Tuesday at 22:00; (2 episodes back-...  \n",
       "1                            ;Monday to Friday 19:50  \n",
       "2         ;Saturday 21:05; (4 episodes back-to-back)  \n",
       "3                            Thursday & Sunday 19:00  \n",
       "4                            ;Monday & Tuesday 21:30  "
      ]
     },
     "execution_count": 6,
     "metadata": {},
     "output_type": "execute_result"
    }
   ],
   "source": [
    "main_details.head(5)"
   ]
  },
  {
   "cell_type": "code",
   "execution_count": 20,
   "metadata": {},
   "outputs": [
    {
     "data": {
      "text/plain": [
       "<AxesSubplot:xlabel='network'>"
      ]
     },
     "execution_count": 20,
     "metadata": {},
     "output_type": "execute_result"
    },
    {
     "data": {
      "image/png": "[encoded data removed]",
      "text/plain": [
       "<Figure size 432x288 with 1 Axes>"
      ]
     },
     "metadata": {
      "needs_background": "light"
     },
     "output_type": "display_data"
    }
   ],
   "source": [
    "main_details.groupby('network').count()['main_name'].sort_values().plot(kind='bar', grid=True)"
   ]
  },
  {
   "cell_type": "code",
   "execution_count": 7,
   "metadata": {},
   "outputs": [],
   "source": [
    "other_details = pd.read_csv(\"/Users/diana/drama/data/dramawiki_2019_dramas_other_details.csv\", sep='\\t')"
   ]
  },
  {
   "cell_type": "code",
   "execution_count": 8,
   "metadata": {},
   "outputs": [
    {
     "data": {
      "text/html": [
       "<div>\n",
       "<style scoped>\n",
       "    .dataframe tbody tr th:only-of-type {\n",
       "        vertical-align: middle;\n",
       "    }\n",
       "\n",
       "    .dataframe tbody tr th {\n",
       "        vertical-align: top;\n",
       "    }\n",
       "\n",
       "    .dataframe thead th {\n",
       "        text-align: right;\n",
       "    }\n",
       "</style>\n",
       "<table border=\"1\" class=\"dataframe\">\n",
       "  <thead>\n",
       "    <tr style=\"text-align: right;\">\n",
       "      <th></th>\n",
       "      <th>synopsis</th>\n",
       "      <th>user_rating</th>\n",
       "      <th>number_of_votes</th>\n",
       "      <th>main_cast</th>\n",
       "    </tr>\n",
       "  </thead>\n",
       "  <tbody>\n",
       "    <tr>\n",
       "      <th>0</th>\n",
       "      <td>The story follows the pain and growth of 17-ye...</td>\n",
       "      <td>4.00</td>\n",
       "      <td>one vote)</td>\n",
       "      <td>Yoon Chan Young|Park Shi Eun</td>\n",
       "    </tr>\n",
       "    <tr>\n",
       "      <th>1</th>\n",
       "      <td>‘A Place in the Sun’ is a story about the inhe...</td>\n",
       "      <td>4.20</td>\n",
       "      <td>20</td>\n",
       "      <td>Oh Chang Suk|Choi Seung Hoon|Yoon So Yi|Uhm Ch...</td>\n",
       "    </tr>\n",
       "    <tr>\n",
       "      <th>2</th>\n",
       "      <td>It's about how two married couples will do wha...</td>\n",
       "      <td>0.00</td>\n",
       "      <td>0</td>\n",
       "      <td>Han Chae Young|Bae Soo Bin|Oh Yoon Ah|Lee Chun...</td>\n",
       "    </tr>\n",
       "    <tr>\n",
       "      <th>3</th>\n",
       "      <td>It's easy to talk about teenagers, but we are ...</td>\n",
       "      <td>4.33</td>\n",
       "      <td>6</td>\n",
       "      <td>Shin Ye Eun|Lee Na Eun|Shin Seung Ho (신승호)|Kim...</td>\n",
       "    </tr>\n",
       "    <tr>\n",
       "      <th>4</th>\n",
       "      <td>Two murder victims, a beautiful prosecutor and...</td>\n",
       "      <td>4.00</td>\n",
       "      <td>15</td>\n",
       "      <td>Park Bo Young|Kim Sa Rang|Lee Soo Min|Ahn Hyo ...</td>\n",
       "    </tr>\n",
       "  </tbody>\n",
       "</table>\n",
       "</div>"
      ],
      "text/plain": [
       "                                            synopsis  user_rating  \\\n",
       "0  The story follows the pain and growth of 17-ye...         4.00   \n",
       "1  ‘A Place in the Sun’ is a story about the inhe...         4.20   \n",
       "2  It's about how two married couples will do wha...         0.00   \n",
       "3  It's easy to talk about teenagers, but we are ...         4.33   \n",
       "4  Two murder victims, a beautiful prosecutor and...         4.00   \n",
       "\n",
       "  number_of_votes                                          main_cast  \n",
       "0       one vote)                       Yoon Chan Young|Park Shi Eun  \n",
       "1              20  Oh Chang Suk|Choi Seung Hoon|Yoon So Yi|Uhm Ch...  \n",
       "2               0  Han Chae Young|Bae Soo Bin|Oh Yoon Ah|Lee Chun...  \n",
       "3               6  Shin Ye Eun|Lee Na Eun|Shin Seung Ho (신승호)|Kim...  \n",
       "4              15  Park Bo Young|Kim Sa Rang|Lee Soo Min|Ahn Hyo ...  "
      ]
     },
     "execution_count": 8,
     "metadata": {},
     "output_type": "execute_result"
    }
   ],
   "source": [
    "other_details.head(5)"
   ]
  },
  {
   "cell_type": "markdown",
   "metadata": {},
   "source": [
    "# TODO:\n",
    "\n",
    "* how to feed in variable cast?\n",
    "* how to feed in variable genre list?\n",
    "* how to feed in synopsis?"
   ]
  }
 ],
 "metadata": {
  "kernelspec": {
   "display_name": "Python 3",
   "language": "python",
   "name": "python3"
  },
  "language_info": {
   "codemirror_mode": {
    "name": "ipython",
    "version": 3
   },
   "file_extension": ".py",
   "mimetype": "text/x-python",
   "name": "python",
   "nbconvert_exporter": "python",
   "pygments_lexer": "ipython3",
   "version": "3.8.5"
  }
 },
 "nbformat": 4,
 "nbformat_minor": 4
}
